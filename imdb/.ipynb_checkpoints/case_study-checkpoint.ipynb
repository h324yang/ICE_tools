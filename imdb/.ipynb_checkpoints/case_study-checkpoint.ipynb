{
 "metadata": {
  "kernelspec": {
   "display_name": "Python 3",
   "language": "python",
   "name": "python3"
  },
  "language_info": {
   "codemirror_mode": {
    "name": "ipython",
    "version": 3
   },
   "file_extension": ".py",
   "mimetype": "text/x-python",
   "name": "python",
   "nbconvert_exporter": "python",
   "pygments_lexer": "ipython3",
   "version": "3.5.2"
  },
  "name": "",
  "signature": "sha256:45183ec7af2cdf9bf0fe9126ec73f506298efa9485293df95b2cb5151f5c9b4b"
 },
 "nbformat": 3,
 "nbformat_minor": 0,
 "worksheets": [
  {
   "cells": [
    {
     "cell_type": "code",
     "collapsed": false,
     "input": [
      "from metric.retrieval_eval import *\n",
      "import json"
     ],
     "language": "python",
     "metadata": {},
     "outputs": [],
     "prompt_number": 1
    },
    {
     "cell_type": "code",
     "collapsed": false,
     "input": [
      "EMBD_DIR = \"sample_sensi/10x5_unw_init1_twostage_w1/\"\n",
      "word_embd_p = \"word.embd.4000\"\n",
      "item_embd_p = \"item.embd.4000\"\n",
      "ombd_p = \"OMDB_dataset/OMDB.json\"\n",
      "\n",
      "word_embd = read_w2v_from_file(EMBD_DIR+word_embd_p)\n",
      "item_embd = read_w2v_from_file(EMBD_DIR+item_embd_p)"
     ],
     "language": "python",
     "metadata": {},
     "outputs": [],
     "prompt_number": 2
    },
    {
     "cell_type": "code",
     "collapsed": false,
     "input": [
      "with open(ombd_p) as f:\n",
      "    omdb = json.load(f)\n",
      "    \n",
      "id2title = {\"m_\"+movie_dict[\"movieId\"]:movie_dict[\"title\"] for movie_dict in omdb}\n",
      "id2genre = {\"m_\"+movie_dict[\"movieId\"]:movie_dict[\"genre\"] for movie_dict in omdb}\n",
      "id2year = {\"m_\"+movie_dict[\"movieId\"]:movie_dict[\"year\"] for movie_dict in omdb}"
     ],
     "language": "python",
     "metadata": {},
     "outputs": [],
     "prompt_number": 3
    },
    {
     "cell_type": "code",
     "collapsed": false,
     "input": [
      "movie_desc = lambda movie_id: (id2title[movie_id], id2year[movie_id], id2genre[movie_id])"
     ],
     "language": "python",
     "metadata": {},
     "outputs": [],
     "prompt_number": 4
    },
    {
     "cell_type": "code",
     "collapsed": false,
     "input": [
      "# word2movie\n",
      "res = batch_retrieve(['w_planet'], word_embd, item_embd, 10)\n",
      "for movie_id in res[0]:\n",
      "    print(\"%s, %s (%s)\"%movie_desc(movie_id))"
     ],
     "language": "python",
     "metadata": {},
     "outputs": [
      {
       "output_type": "stream",
       "stream": "stdout",
       "text": [
        "Superman, 1948 (Sci-Fi)\n",
        "Attack from Space, 1965 (Action, Sci-Fi)\n",
        "Vicious Lips, 1986 (Horror, Music, Sci-Fi)\n",
        "The Day the Sky Exploded, 1958 (Sci-Fi)\n",
        "Star Trek IV: The Voyage Home, 1986 (Adventure, Comedy, Sci-Fi)\n",
        "Solaris, 2002 (Drama, Mystery, Romance)\n",
        "Flash Gordon, 1936 (Action, Adventure, Sci-Fi)\n",
        "Planet B-Boy, 2007 (Documentary, History, Music)\n",
        "Tribulation 99: Alien Anomalies Under America, 1992 (Comedy, Sci-Fi)\n",
        "Space Battleship Yamato, 2010 (Action, Adventure, Drama)\n"
       ]
      }
     ],
     "prompt_number": 5
    },
    {
     "cell_type": "code",
     "collapsed": false,
     "input": [
      "# movie2movie\n",
      "res = batch_retrieve(['m_480'], item_embd, item_embd, 10) # Jurassic Park\n",
      "for movie_id in res[0]:\n",
      "    print(\"%s, %s (%s)\"%movie_desc(movie_id))"
     ],
     "language": "python",
     "metadata": {},
     "outputs": [
      {
       "output_type": "stream",
       "stream": "stdout",
       "text": [
        "Jurassic Park, 1993 (Adventure, Sci-Fi, Thriller)\n",
        "Jurassic World, 2015 (Action, Adventure, Sci-Fi)\n",
        "The Lost World: Jurassic Park, 1997 (Action, Adventure, Sci-Fi)\n",
        "The Lost World, 1960 (Adventure, Fantasy, Sci-Fi)\n",
        "The Gnome-Mobile, 1967 (Adventure, Family, Fantasy)\n",
        "Journey 2: The Mysterious Island, 2012 (Action, Adventure, Comedy)\n",
        "Age of Dinosaurs, 2013 (Action, Sci-Fi)\n",
        "Dinotopia: Quest for the Ruby Sunstone, 2005 (Animation, Adventure, Comedy)\n",
        "Go Goa Gone, 2013 (Action, Adventure, Comedy)\n",
        "Godzilla vs. the Sea Monster, 1966 (Action, Adventure, Comedy)\n"
       ]
      }
     ],
     "prompt_number": 6
    },
    {
     "cell_type": "code",
     "collapsed": false,
     "input": [
      "# movie2word\n",
      "print(\"%s, %s (%s)\"%movie_desc('m_106782'))\n",
      "res = batch_retrieve(['m_106782'], item_embd, word_embd, 10) # The Wolf of Wall Street\n",
      "for w in res[0]:\n",
      "    print(w[2:])"
     ],
     "language": "python",
     "metadata": {},
     "outputs": [
      {
       "output_type": "stream",
       "stream": "stdout",
       "text": [
        "The Wolf of Wall Street, 2013 (Biography, Comedy, Crime)\n",
        "defrauding"
       ]
      },
      {
       "output_type": "stream",
       "stream": "stdout",
       "text": [
        "\n",
        "madden\n",
        "shoe\n",
        "widespread\n",
        "securities\n",
        "banking\n",
        "investors\n",
        "served\n",
        "swindling\n",
        "penny\n"
       ]
      }
     ],
     "prompt_number": 12
    },
    {
     "cell_type": "code",
     "collapsed": false,
     "input": [
      "EMBD_DIR = \"task/retrieval/bpt/\"\n",
      "word_embd_p = \"word.embd.12000\"\n",
      "item_embd_p = \"item.embd.12000\"\n",
      "\n",
      "bpt_word_embd = read_w2v_from_file(EMBD_DIR+word_embd_p)\n",
      "bpt_item_embd = read_w2v_from_file(EMBD_DIR+item_embd_p)"
     ],
     "language": "python",
     "metadata": {},
     "outputs": [],
     "prompt_number": 8
    },
    {
     "cell_type": "code",
     "collapsed": false,
     "input": [
      "# word2movie\n",
      "res = batch_retrieve(['w_planet'], bpt_word_embd, bpt_item_embd, 10)\n",
      "for movie_id in res[0]:\n",
      "    print(\"%s, %s (%s)\"%movie_desc(movie_id))"
     ],
     "language": "python",
     "metadata": {},
     "outputs": [
      {
       "output_type": "stream",
       "stream": "stdout",
       "text": [
        "The Land Before Time, 1988 (Animation, Adventure, Family)\n",
        "Broken Windows, 2008 (Drama)\n",
        "Holiday, 2014 (Action, Drama, Mystery)\n",
        "The October Man, 1947 (Mystery)\n",
        "Deadline - U.S.A., 1952 (Crime, Drama, Film-Noir)\n",
        "Dangerous Game, 1993 (Drama)\n",
        "Bloodsport III, 1996 (Action, Sport)\n",
        "A Bridge Too Far, 1977 (Drama, History, War)\n",
        "Raggedy Ann & Andy: A Musical Adventure, 1977 (Animation, Comedy, Family)\n",
        "Happy Times, 2000 (Comedy, Drama)\n"
       ]
      }
     ],
     "prompt_number": 9
    },
    {
     "cell_type": "code",
     "collapsed": false,
     "input": [
      "# movie2movie\n",
      "res = batch_retrieve(['m_480'], bpt_item_embd, bpt_item_embd, 10) # Jurassic Park\n",
      "for movie_id in res[0]:\n",
      "    print(\"%s, %s (%s)\"%movie_desc(movie_id))"
     ],
     "language": "python",
     "metadata": {},
     "outputs": [
      {
       "output_type": "stream",
       "stream": "stdout",
       "text": [
        "Jurassic Park, 1993 (Adventure, Sci-Fi, Thriller)\n",
        "Walking with Prehistoric Beasts, 2001 (Animation, Documentary)\n",
        "Jurassic World, 2015 (Action, Adventure, Sci-Fi)\n",
        "The Lost World: Jurassic Park, 1997 (Action, Adventure, Sci-Fi)\n",
        "Who Can Kill a Child?, 1976 (Fantasy, Horror)\n",
        "Cabin Fever: Patient Zero, 2014 (Horror, Sci-Fi, Thriller)\n",
        "'I Know Where I'm Going!', 1945 (Drama, Romance)\n",
        "When Dinosaurs Ruled the Earth, 1970 (Adventure, Fantasy, Sci-Fi)\n",
        "Island of Lost Souls, 1932 (Adventure, Horror, Romance)\n",
        "The Killer Shrews, 1959 (Horror, Sci-Fi)\n"
       ]
      }
     ],
     "prompt_number": 10
    },
    {
     "cell_type": "code",
     "collapsed": false,
     "input": [
      "# movie2word\n",
      "res = batch_retrieve(['m_106782'], bpt_item_embd, bpt_word_embd, 10) # The Wolf of Wall Street\n",
      "for w in res[0]:\n",
      "    print(w[2:])"
     ],
     "language": "python",
     "metadata": {},
     "outputs": [
      {
       "output_type": "stream",
       "stream": "stdout",
       "text": [
        "gloomiest\n",
        "clarity\n",
        "vibrator\n",
        "cogent\n",
        "foretelling\n",
        "unsubstantiated\n",
        "fallows\n",
        "stopover\n",
        "dramatics\n",
        "rance\n"
       ]
      }
     ],
     "prompt_number": 11
    },
    {
     "cell_type": "code",
     "collapsed": false,
     "input": [],
     "language": "python",
     "metadata": {},
     "outputs": [],
     "prompt_number": null
    }
   ],
   "metadata": {}
  }
 ]
}