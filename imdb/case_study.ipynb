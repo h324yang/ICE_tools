{
 "metadata": {
  "kernelspec": {
   "display_name": "Python 3",
   "language": "python",
   "name": "python3"
  },
  "language_info": {
   "codemirror_mode": {
    "name": "ipython",
    "version": 3
   },
   "file_extension": ".py",
   "mimetype": "text/x-python",
   "name": "python",
   "nbconvert_exporter": "python",
   "pygments_lexer": "ipython3",
   "version": "3.5.2"
  },
  "name": "",
  "signature": "sha256:a7a70d4c086d14c014b69a79c40d227683aec11443b25a48fa9f5c080da79015"
 },
 "nbformat": 3,
 "nbformat_minor": 0,
 "worksheets": [
  {
   "cells": [
    {
     "cell_type": "code",
     "collapsed": false,
     "input": [
      "from metric.retrieval_eval import *\n",
      "import json"
     ],
     "language": "python",
     "metadata": {},
     "outputs": [],
     "prompt_number": 1
    },
    {
     "cell_type": "code",
     "collapsed": false,
     "input": [
      "EMBD_DIR = \"sample_sensi/wice_10x5_1/\"\n",
      "word_embd_p = \"word.embd.40\"\n",
      "item_embd_p = \"item.embd.40\"\n",
      "ombd_p = \"OMDB_dataset/OMDB.json\"\n",
      "\n",
      "word_embd = read_w2v_from_file(EMBD_DIR+word_embd_p)\n",
      "item_embd = read_w2v_from_file(EMBD_DIR+item_embd_p)"
     ],
     "language": "python",
     "metadata": {},
     "outputs": [],
     "prompt_number": 2
    },
    {
     "cell_type": "code",
     "collapsed": false,
     "input": [
      "with open(ombd_p) as f:\n",
      "    omdb = json.load(f)\n",
      "    \n",
      "id2title = {\"m_\"+movie_dict[\"movieId\"]:movie_dict[\"title\"] for movie_dict in omdb}\n",
      "id2genre = {\"m_\"+movie_dict[\"movieId\"]:movie_dict[\"genre\"] for movie_dict in omdb}\n",
      "id2year = {\"m_\"+movie_dict[\"movieId\"]:movie_dict[\"year\"] for movie_dict in omdb}"
     ],
     "language": "python",
     "metadata": {},
     "outputs": [],
     "prompt_number": 3
    },
    {
     "cell_type": "code",
     "collapsed": false,
     "input": [
      "movie_desc = lambda movie_id: (id2title[movie_id], id2year[movie_id], id2genre[movie_id])"
     ],
     "language": "python",
     "metadata": {},
     "outputs": [],
     "prompt_number": 4
    },
    {
     "cell_type": "code",
     "collapsed": false,
     "input": [
      "# word2movie\n",
      "res = batch_retrieve(['w_planet'], word_embd, item_embd, 10)\n",
      "for movie_id in res[0]:\n",
      "    print(\"%s, %s (%s)\"%movie_desc(movie_id))"
     ],
     "language": "python",
     "metadata": {},
     "outputs": [
      {
       "output_type": "stream",
       "stream": "stdout",
       "text": [
        "Space Battleship Yamato, 2010 (Action, Adventure, Drama)\n",
        "Invaders from Space, 1965 (Sci-Fi)\n",
        "Armageddon, 1998 (Action, Adventure, Sci-Fi)\n",
        "Dark Space, 2013 (Sci-Fi)\n",
        "Space Chimps 2: Zartog Strikes Back, 2010 (Animation, Family, Sci-Fi)\n",
        "Battle for Skyark, 2016 (Action, Adventure, Family)\n",
        "Planet of Dinosaurs, 1977 (Sci-Fi, Drama)\n",
        "Gamera vs. Viras, 1968 (Action, Family, Sci-Fi)\n",
        "The Day the Earth Stood Still, 1951 (Drama, Sci-Fi)\n",
        "The Wild Blue Yonder, 2005 (Sci-Fi)\n"
       ]
      }
     ],
     "prompt_number": 5
    },
    {
     "cell_type": "code",
     "collapsed": false,
     "input": [
      "# movie2movie\n",
      "res = batch_retrieve(['m_480'], item_embd, item_embd, 10) # Jurassic Park\n",
      "for movie_id in res[0]:\n",
      "    print(\"%s, %s (%s)\"%movie_desc(movie_id))"
     ],
     "language": "python",
     "metadata": {},
     "outputs": [
      {
       "output_type": "stream",
       "stream": "stdout",
       "text": [
        "Jurassic Park, 1993 (Adventure, Sci-Fi, Thriller)\n",
        "Urmel aus dem Eis, 2006 (Animation, Family)\n",
        "The Deadly Mantis, 1957 (Horror, Sci-Fi, Thriller)\n",
        "Walking with Monsters, 2005_\ufffd (Documentary)\n",
        "Back to the Jurassic, 2015 (Animation)\n",
        "Jurassic World, 2015 (Action, Adventure, Sci-Fi)\n",
        "The Killer Shrews, 1959 (Horror, Sci-Fi)\n",
        "Black Moon, 1934 (Horror)\n",
        "The Good Dinosaur, 2015 (Animation, Adventure, Comedy)\n",
        "A Wedding, 1978 (Comedy, Drama)\n"
       ]
      }
     ],
     "prompt_number": 6
    },
    {
     "cell_type": "code",
     "collapsed": false,
     "input": [
      "# movie2word\n",
      "print(\"%s, %s (%s)\"%movie_desc('m_106782'))\n",
      "res = batch_retrieve(['m_106782'], item_embd, word_embd, 10) # The Wolf of Wall Street\n",
      "for w in res[0]:\n",
      "    print(w[2:])"
     ],
     "language": "python",
     "metadata": {},
     "outputs": [
      {
       "output_type": "stream",
       "stream": "stdout",
       "text": [
        "The Wolf of Wall Street, 2013 (Biography, Comedy, Crime)\n",
        "investors"
       ]
      },
      {
       "output_type": "stream",
       "stream": "stdout",
       "text": [
        "\n",
        "securities\n",
        "stockmarket\n",
        "investment\n",
        "equity\n",
        "investor\n",
        "asset\n",
        "capital\n",
        "investing\n",
        "stockbrokers\n"
       ]
      }
     ],
     "prompt_number": 7
    },
    {
     "cell_type": "code",
     "collapsed": false,
     "input": [
      "EMBD_DIR = \"task/retrieval/bpt_top10_1/\"\n",
      "word_embd_p = \"word.embd.40\"\n",
      "item_embd_p = \"item.embd.40\"\n",
      "\n",
      "bpt_word_embd = read_w2v_from_file(EMBD_DIR+word_embd_p)\n",
      "bpt_item_embd = read_w2v_from_file(EMBD_DIR+item_embd_p)"
     ],
     "language": "python",
     "metadata": {},
     "outputs": [],
     "prompt_number": 10
    },
    {
     "cell_type": "code",
     "collapsed": false,
     "input": [
      "# word2movie\n",
      "res = batch_retrieve(['w_planet'], bpt_word_embd, bpt_item_embd, 10)\n",
      "for movie_id in res[0]:\n",
      "    print(\"%s, %s (%s)\"%movie_desc(movie_id))"
     ],
     "language": "python",
     "metadata": {},
     "outputs": [
      {
       "output_type": "stream",
       "stream": "stdout",
       "text": [
        "The Secret of Kells, 2009 (Animation, Adventure, Family)\n",
        "The Chronicles of Riddick, 2004 (Action, Adventure, Sci-Fi)\n",
        "We Have a Pope, 2011 (Comedy, Drama)\n",
        "Hot Shots!, 1991 (Action, Comedy)\n",
        "Pablo Francisco: Bits and Pieces - Live from Orange County, 2004 (Comedy)\n",
        "Invasion of the Body Snatchers, 1956 (Horror, Sci-Fi)\n",
        "Howl, 2010 (Biography, Drama)\n",
        "Tut, 2015 (Biography, Drama, History)\n",
        "When Trumpets Fade, 1998 (Action, Drama, War)\n",
        "In Bar, 2007 (Crime, Drama, Thriller)\n"
       ]
      }
     ],
     "prompt_number": 11
    },
    {
     "cell_type": "code",
     "collapsed": false,
     "input": [
      "# movie2movie\n",
      "res = batch_retrieve(['m_480'], bpt_item_embd, bpt_item_embd, 10) # Jurassic Park\n",
      "for movie_id in res[0]:\n",
      "    print(\"%s, %s (%s)\"%movie_desc(movie_id))"
     ],
     "language": "python",
     "metadata": {},
     "outputs": [
      {
       "output_type": "stream",
       "stream": "stdout",
       "text": [
        "Jurassic Park, 1993 (Adventure, Sci-Fi, Thriller)\n",
        "The Harlem Globetrotters on Gilligan's Island, 1981 (Adventure, Comedy, Sport)\n",
        "We're Not Dressing, 1934 (Comedy, Musical)\n",
        "Rain, 1932 (Drama)\n",
        "Doomed, 2007 (Horror)\n",
        "The Mysterious Island, 1929 (Adventure, Romance, Sci-Fi)\n",
        "Simple Men, 1992 (Crime, Drama, Romance)\n",
        "The Narrow Corner, 1933 (Drama)\n",
        "Come Out and Play, 2012 (Horror)\n",
        "Grabbers, 2012 (Comedy, Horror, Sci-Fi)\n"
       ]
      }
     ],
     "prompt_number": 12
    },
    {
     "cell_type": "code",
     "collapsed": false,
     "input": [
      "# movie2word\n",
      "res = batch_retrieve(['m_106782'], bpt_item_embd, bpt_word_embd, 10) # The Wolf of Wall Street\n",
      "for w in res[0]:\n",
      "    print(w[2:])"
     ],
     "language": "python",
     "metadata": {},
     "outputs": [
      {
       "output_type": "stream",
       "stream": "stdout",
       "text": [
        "snakes\n",
        "machinery\n",
        "ringleader\n",
        "thread\n",
        "wellington\n",
        "marauders\n",
        "maze\n",
        "deadliest\n",
        "nicky\n",
        "miraculous\n"
       ]
      }
     ],
     "prompt_number": 13
    },
    {
     "cell_type": "code",
     "collapsed": false,
     "input": [],
     "language": "python",
     "metadata": {},
     "outputs": [],
     "prompt_number": null
    }
   ],
   "metadata": {}
  }
 ]
}